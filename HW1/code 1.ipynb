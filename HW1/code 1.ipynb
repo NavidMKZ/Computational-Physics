{
 "cells": [
  {
   "cell_type": "code",
   "execution_count": 1,
   "id": "9e9c1fa2-1289-462f-9869-58205e6b0465",
   "metadata": {
    "tags": []
   },
   "outputs": [],
   "source": [
    "import numpy as np\n",
    "import matplotlib.pyplot as plt"
   ]
  },
  {
   "cell_type": "markdown",
   "id": "2c9c3cb1-4085-4a48-bf54-8a9c72a48b9d",
   "metadata": {},
   "source": [
    "# Exercise_1"
   ]
  },
  {
   "cell_type": "code",
   "execution_count": 14,
   "id": "83544710-dbf8-461b-87ef-6439a3dc660f",
   "metadata": {
    "tags": []
   },
   "outputs": [
    {
     "name": "stdout",
     "output_type": "stream",
     "text": [
      "The minimum of the functin x^2 -2 is -2.0\n",
      "\n",
      "method 1:\n",
      "first root -1.41 is 0.0 and second root -1.41 is -0.0\n",
      "\n",
      "method 2:\n",
      "The root from numerical bisection method:  -1.41\n",
      "The root from numerical bisection method:  1.41\n"
     ]
    }
   ],
   "source": [
    "min_range = -1000\n",
    "max_range = +1000\n",
    "steps = 10000001\n",
    "\n",
    "range_list = np.linspace(min_range,max_range,steps)\n",
    "def function(x):\n",
    "    return x**2 - 2\n",
    "\n",
    "min_function = np.min(function(range_list))\n",
    "print(f\"The minimum of the functin x^2 -2 is {min_function}\")\n",
    "\n",
    "\n",
    "location = np.where((function(range_list) <=0.001) & (function(range_list) >= -0.001))\n",
    "root1, root2 = range_list[location[0][0]], range_list[location[0][1]]\n",
    "\n",
    "print(\"\\nmethod 1:\")\n",
    "print(f\"first root {round(root1,2)} is {round(function(root1),2)} and second root {round(root2,2)} is {round(function(root2),2)}\")\n",
    "\n",
    "def bisection(xmin, xmax):\n",
    "    N = 1000\n",
    "    for i in range(0,N):\n",
    "        c = (xmin+xmax) / 2\n",
    "\n",
    "        if(-0.1 <= function(c) <= 0.1):\n",
    "            \n",
    "            print(\"The root from numerical bisection method: \",round(c,2))\n",
    "            break\n",
    "        elif ((function(c))*(function(xmin)) < 0):\n",
    "            xmax = c\n",
    "        elif ((function(c))*(function(xmax)) < 0):\n",
    "            xmin = c\n",
    "    \n",
    "\n",
    "step1 = 5\n",
    "xmin = min_range\n",
    "xmax = min_range + step1\n",
    "print(\"\\nmethod 2:\")\n",
    "while True:\n",
    "    bisection(xmin, xmax)\n",
    "    \n",
    "    xmin = xmin + step1\n",
    "    xmax = xmax + step1\n",
    "    if xmax >= max_range:\n",
    "        break"
   ]
  },
  {
   "cell_type": "markdown",
   "id": "2e4b0596-6020-4dcd-9fd4-05ab631b131c",
   "metadata": {
    "tags": []
   },
   "source": [
    "# Exercise_2"
   ]
  },
  {
   "cell_type": "code",
   "execution_count": 8,
   "id": "d3010625-5883-4d7a-8563-ec756ad5313b",
   "metadata": {
    "tags": []
   },
   "outputs": [
    {
     "name": "stdout",
     "output_type": "stream",
     "text": [
      "g = 9.2 | v0x = 1.3 | v0y = 7 | V_total = 7.12 | angle = 79.48\n"
     ]
    }
   ],
   "source": [
    "y = [4.1, 4.734, 5.276, 5.726, 6.084, 6.35, 6.524, 6.606, 6.596, 6.494, 6.3, 6.014, 5.636, 5.166, 4.604, 3.95, 3.204, 2.366, 1.436, 0.414]\n",
    "x = [0., 0.13, 0.26, 0.39, 0.52, 0.65, 0.78, 0.91, 1.04, 1.17, 1.3, 1.43, 1.56, 1.69, 1.82, 1.95, 2.08, 2.21, 2.34, 2.47]\n",
    "dt, t_list= 0.1, []\n",
    "\n",
    "g = round(abs((y[5] - 2*y[4] + y[3]) / (dt**2)),2)\n",
    "\n",
    "# vy1 = (y[1] - y[0]) / dt\n",
    "# vy2 = (y[2] - y[1]) / dt\n",
    "# g = (vy2 - vy1) / dt\n",
    "\n",
    "v0x = (x[1] - x[0]) / (dt)\n",
    "v0y = round((y[1] - y[0] + 0.5*g*dt**2)/(dt))\n",
    "V_t = round(np.sqrt(v0x**2 + v0y**2),2)\n",
    "angle = round(np.arctan(v0y/v0x)*180/np.pi,2)\n",
    "#angle = np.rad2deg(np.arctan(v0y/v0x))\n",
    "\n",
    "print(f\"g = {g} | v0x = {v0x} | v0y = {v0y} | V_total = {V_t} | angle = {angle}\")"
   ]
  },
  {
   "cell_type": "markdown",
   "id": "426f5009-34fc-4492-a95d-05465009e8f9",
   "metadata": {},
   "source": [
    "# Exercise_3"
   ]
  },
  {
   "cell_type": "code",
   "execution_count": 9,
   "id": "a60e813f-03f2-4268-a966-0ceaa6590652",
   "metadata": {
    "tags": []
   },
   "outputs": [
    {
     "data": {
      "image/png": "[encoded data removed]",
      "text/plain": [
       "<Figure size 640x480 with 1 Axes>"
      ]
     },
     "metadata": {},
     "output_type": "display_data"
    }
   ],
   "source": [
    "x, y, t , m = 0, 0, 0, 1\n",
    "v0, g, angle = 1000, 9.8, 50\n",
    "alpha = 0.005\n",
    "t0, tf , n = 0, 17.75, 355\n",
    "dt = (tf - t0) / n\n",
    "\n",
    "vx = v0*np.cos(angle*np.pi/180)\n",
    "vy = v0*np.sin(angle*np.pi/180)\n",
    "\n",
    "def Euler(state, t, dt, derivative, params):\n",
    "    return state+derivative(state,t, params)*dt\n",
    "\n",
    "def velocity_x(x, t, params):\n",
    "    vx = params[0]\n",
    "    return vx\n",
    "\n",
    "def velocity_y(y, t, params):\n",
    "    vy = params[0]\n",
    "    return vy\n",
    "    \n",
    "def acc_x(vx, t, params):\n",
    "    alpha, v_t, m  = params[0], params[1], params[2]\n",
    "    \n",
    "    return - ((alpha*vx*v_t)/m)\n",
    "\n",
    "def acc_y(vy, t, params):\n",
    "    g, alpha, v_t, m = params[0], params[1], params[2], params[3]\n",
    "    \n",
    "    return (-g - ((alpha*vy*v_t)/m))\n",
    "\n",
    "x_eu, y_eu = [x], [y]\n",
    "\n",
    "for step in range(n):\n",
    "# while y >= 0:\n",
    "    params_x = [vx]\n",
    "    params_y = [vy]\n",
    "    x = Euler(x, t, dt, velocity_x, params_x)\n",
    "    y = Euler(y, t, dt, velocity_y, params_y)\n",
    "    \n",
    "    v_t = np.sqrt(vx**2 + vy**2)\n",
    "    t = t + dt\n",
    "    \n",
    "    params_vx = [alpha, v_t, m]\n",
    "    params_vy = [g, alpha, v_t, m]\n",
    "    \n",
    "    vx = Euler(vx, t, dt, acc_x, params_vx)\n",
    "    vy = Euler(vy, t, dt, acc_y, params_vy)\n",
    "    \n",
    "    x_eu.append(x)\n",
    "    y_eu.append(y)\n",
    "\n",
    "plt.plot(x_eu, y_eu)\n",
    "plt.show()"
   ]
  },
  {
   "cell_type": "code",
   "execution_count": 10,
   "id": "29f1b7eb-3cd8-4179-a71d-3591664ef573",
   "metadata": {
    "tags": []
   },
   "outputs": [
    {
     "data": {
      "image/png": "[encoded data removed]",
      "text/plain": [
       "<Figure size 640x480 with 1 Axes>"
      ]
     },
     "metadata": {},
     "output_type": "display_data"
    }
   ],
   "source": [
    "x, y, t , m = 0, 0, 0, 1\n",
    "v0, g, angle = 1000, 9.8, 50\n",
    "alpha = 0.0056\n",
    "t0, tf , n = 0, 17.75, 355\n",
    "dt = (tf - t0) / n\n",
    "vx = v0*np.cos(angle*np.pi/180)\n",
    "vy = v0*np.sin(angle*np.pi/180)\n",
    "\n",
    "def RungeKuttaSecondOrder(state, t,dt,derivative,params):\n",
    "    k1 = derivative(state,t, params)\n",
    "    state2 = Euler(state, t, dt, derivative, params)\n",
    "    k2 = derivative(state2,t+dt,params)\n",
    "    return state + 0.5*dt*(k1+k2)\n",
    "\n",
    "\n",
    "x_rk2 = [x]\n",
    "y_rk2 = [y]\n",
    "# for step in range(n):\n",
    "while y >= 0:\n",
    "    params_x = [vx]\n",
    "    params_y = [vy]\n",
    "    x = RungeKuttaSecondOrder(x, t, dt, velocity_x, params_x)\n",
    "    y = RungeKuttaSecondOrder(y, t, dt, velocity_y, params_y)\n",
    "    \n",
    "    v_t = np.sqrt(vx**2 + vy**2)\n",
    "    t = t + dt\n",
    "    \n",
    "    params_vx = [alpha, v_t, m]\n",
    "    params_vy = [g, alpha, v_t, m]\n",
    "    \n",
    "    vx = RungeKuttaSecondOrder(vx, t, dt, acc_x, params_vx)\n",
    "    vy = RungeKuttaSecondOrder(vy, t, dt, acc_y, params_vy)\n",
    "    \n",
    "    x_rk2.append(x)\n",
    "    y_rk2.append(y)\n",
    "\n",
    "plt.plot(x_eu, y_eu, color=\"r\", label=\"Euler_method\")\n",
    "plt.plot(x_rk2, y_rk2, color=\"b\", label=\"RungeKutta_method\")\n",
    "plt.xlim(min(x_rk2))\n",
    "plt.ylim(min(y_rk2))\n",
    "plt.xlabel(\"distance\")\n",
    "plt.ylabel(\"Height\")\n",
    "plt.legend()\n",
    "plt.show()"
   ]
  },
  {
   "cell_type": "code",
   "execution_count": 12,
   "id": "cd735d94-0cf1-4d2e-938b-d93de479826e",
   "metadata": {
    "tags": []
   },
   "outputs": [
    {
     "data": {
      "image/png": "[encoded data removed]",
      "text/plain": [
       "<Figure size 640x480 with 1 Axes>"
      ]
     },
     "metadata": {},
     "output_type": "display_data"
    }
   ],
   "source": [
    "x, y, t , m = 0, 0, 0, 1\n",
    "v0, g, angle = 1000, 9.8, 50\n",
    "alpha = 0.0056\n",
    "t0, tf , n = 0, 17.75, 355\n",
    "dt = (tf - t0) / n\n",
    "dt = 0.01\n",
    "\n",
    "\n",
    "vx = v0*np.cos(angle*np.pi/180)\n",
    "vy = v0*np.sin(angle*np.pi/180)\n",
    "\n",
    "def Euler(state, t, dt, derivative, params):\n",
    "    return state+derivative(state,t, params)*dt\n",
    "\n",
    "\n",
    "def RungeKuttaSecondOrder(state, t,dt,derivative,params):\n",
    "    k1 = derivative(state,t, params)\n",
    "    state2 = Euler(state, t, dt, derivative, params)\n",
    "    k2 = derivative(state2,t+dt,params)\n",
    "    return state + 0.5*dt*(k1+k2)\n",
    "\n",
    "def velocity_x(x, t, params):\n",
    "    vx = params[0]\n",
    "    return vx\n",
    "\n",
    "def velocity_y(y, t, params):\n",
    "    vy = params[0]\n",
    "    return vy\n",
    "    \n",
    "def acc_x(vx, t, params):\n",
    "    alpha, v_t, m  = params[0], params[1], params[2]\n",
    "    \n",
    "    return - ((alpha*vx*v_t)/m)\n",
    "\n",
    "def acc_y(vy, t, params):\n",
    "    g, alpha, v_t, m = params[0], params[1], params[2], params[3]\n",
    "    \n",
    "    return (-g - ((alpha*vy*v_t)/m))\n",
    "\n",
    "\n",
    "\n",
    "def rocket_euler(x, y, t, m, g, angle, alpha, vx, vy, dt, n):\n",
    "    x_eu, y_eu = [x], [y]\n",
    "\n",
    "    # for step in range(n):\n",
    "    while y >= 0:\n",
    "        params_x = [vx]\n",
    "        params_y = [vy]\n",
    "        x = Euler(x, t, dt, velocity_x, params_x)\n",
    "        y = Euler(y, t, dt, velocity_y, params_y)\n",
    "\n",
    "        v_t = np.sqrt(vx**2 + vy**2)\n",
    "        t = t + dt\n",
    "\n",
    "        params_vx = [alpha, v_t, m]\n",
    "        params_vy = [g, alpha, v_t, m]\n",
    "\n",
    "        vx = Euler(vx, t, dt, acc_x, params_vx)\n",
    "        vy = Euler(vy, t, dt, acc_y, params_vy)\n",
    "\n",
    "        x_eu.append(x)\n",
    "        y_eu.append(y)\n",
    "        \n",
    "    return x_eu, y_eu\n",
    "\n",
    "\n",
    "def rocket_rk2(x, y, t, m, g, angle, alpha, vx, vy, dt, n):\n",
    "    x_rk2, y_rk2 = [x], [y]\n",
    "    # for step in range(n):\n",
    "    while y >= 0:\n",
    "        params_x = [vx]\n",
    "        params_y = [vy]\n",
    "        x = RungeKuttaSecondOrder(x, t, dt, velocity_x, params_x)\n",
    "        y = RungeKuttaSecondOrder(y, t, dt, velocity_y, params_y)\n",
    "\n",
    "        v_t = np.sqrt(vx**2 + vy**2)\n",
    "        t = t + dt\n",
    "\n",
    "        params_vx = [alpha, v_t, m]\n",
    "        params_vy = [g, alpha, v_t, m]\n",
    "\n",
    "        vx = RungeKuttaSecondOrder(vx, t, dt, acc_x, params_vx)\n",
    "        vy = RungeKuttaSecondOrder(vy, t, dt, acc_y, params_vy)\n",
    "\n",
    "        x_rk2.append(x)\n",
    "        y_rk2.append(y)\n",
    "    \n",
    "    return x_rk2, y_rk2\n",
    "\n",
    "\n",
    "\n",
    "\n",
    "x_eu, y_eu = rocket_euler(x, y, t, m, g, angle, alpha, vx, vy, dt, n)\n",
    "x_rk2, y_rk2 = rocket_rk2(x, y, t, m, g, angle, alpha, vx, vy, dt, n)\n",
    "\n",
    "# print(x_eu[-1],max(y_eu),\"e\")\n",
    "# print(x_rk2[-1],max(y_rk2),\"r\")\n",
    "\n",
    "plt.plot(x_eu, y_eu, color=\"r\", label=\"Euler_method\")\n",
    "plt.plot(x_rk2, y_rk2, color=\"b\", label=\"RungeKutta_method\")\n",
    "plt.xlim(min(x_rk2))\n",
    "plt.ylim(min(y_rk2))\n",
    "plt.xlabel(\"distance\")\n",
    "plt.ylabel(\"Height\")\n",
    "plt.legend()\n",
    "plt.show()"
   ]
  },
  {
   "cell_type": "markdown",
   "id": "63876c3c-7159-457b-a151-d7a7b08f1503",
   "metadata": {},
   "source": [
    "# Exercise_4"
   ]
  },
  {
   "cell_type": "code",
   "execution_count": 13,
   "id": "5840ef71-3ce8-4d17-8eda-fcc8b5760d2d",
   "metadata": {
    "tags": []
   },
   "outputs": [
    {
     "name": "stdout",
     "output_type": "stream",
     "text": [
      "54.99091525941087\n",
      "2997.60096\n"
     ]
    }
   ],
   "source": [
    "class PhysicalSystem:\n",
    "    def __init__(self,state0,params):\n",
    "        self.state0 = state0\n",
    "        self.params = params\n",
    "\n",
    "    def Derivative(self, t):\n",
    "        pass\n",
    "    def NextStateRK2(self, dt, t):\n",
    "        k1 = self.Derivative(t)\n",
    "        temp_state = self.state0\n",
    "        self.NextStateEuler(dt, t)\n",
    "        k2 = self.Derivative(t+dt)\n",
    "        self.state0 = temp_state + 0.5*dt*(k1+k2)\n",
    "        return self.state0\n",
    "    \n",
    "    def NextStateEuler(self, dt, t):\n",
    "        self.state0 = self.state0 + self.Derivative(t)*dt\n",
    "        return self.state0 \n",
    "\n",
    "class NuclearSystem(PhysicalSystem):\n",
    "    def Derivative(self,t):\n",
    "        return -self.state0 / self.params[0]\n",
    "\n",
    "    \n",
    "N = 3000\n",
    "Radium = NuclearSystem(N, [25])\n",
    "N_list = [N]\n",
    "t = 0\n",
    "dt = 0.02\n",
    "n = 5000\n",
    "for i in range(1,n):\n",
    "    N_list.append(Radium.NextStateRK2(dt, t))\n",
    "    t = t + dt\n",
    "print(N_list[-1])\n",
    "print(N_list[1])\n"
   ]
  },
  {
   "cell_type": "markdown",
   "id": "0a5b719b-c3ef-495f-9a05-db92a6303b89",
   "metadata": {},
   "source": [
    "# Exercise 5"
   ]
  },
  {
   "cell_type": "code",
   "execution_count": 14,
   "id": "970b5a08-c6f3-4439-8a91-3c32e015cf4d",
   "metadata": {
    "tags": []
   },
   "outputs": [
    {
     "name": "stdout",
     "output_type": "stream",
     "text": [
      "from numerical method alpha is 1.5718753334737057\n",
      "from theorical method alpha is 1.5707963267948966\n"
     ]
    }
   ],
   "source": [
    "import random\n",
    "import math\n",
    "random.seed(42)\n",
    "N = 1000000\n",
    "count=0\n",
    "for iPoint in range(N):\n",
    "    point = (random.random(),random.random(), random.random(), random.random())\n",
    "    if point[0]**2+point[1]**2+point[2]**2+point[3]**2 < 1:\n",
    "        count=count+1\n",
    "\n",
    "alpha = float(count)/float(N)\n",
    "volume = 16*alpha\n",
    "Alpha = volume/math.pi\n",
    "print(f\"from numerical method alpha is {Alpha}\")\n",
    "print(\"from theorical method alpha is\",0.5*math.pi)"
   ]
  },
  {
   "cell_type": "markdown",
   "id": "79e004c7-f3ce-4133-8c50-a417e9be1df5",
   "metadata": {},
   "source": [
    "# Exercise 6"
   ]
  },
  {
   "cell_type": "code",
   "execution_count": 15,
   "id": "40c6a244-a099-4d19-aeba-c3b0ad44e471",
   "metadata": {
    "tags": []
   },
   "outputs": [
    {
     "name": "stdout",
     "output_type": "stream",
     "text": [
      "1.5722\n",
      "1.5707963267948966\n"
     ]
    }
   ],
   "source": [
    "import random\n",
    "import math\n",
    "# random.seed(42)\n",
    "N = 1000000\n",
    "count=0\n",
    "r = 0.5\n",
    "a = 0.5\n",
    "\n",
    "for iPoint in range(N):\n",
    "    point = (random.random(), random.random(), random.random())\n",
    "    x = point[0]\n",
    "    y = point[1]\n",
    "    z = point[2]\n",
    "    if (x-a)**2 + z**2 < r**2 and y<1:\n",
    "        count=count+1\n",
    "\n",
    "alpha = float(count)/float(N)\n",
    "volume = 4*alpha\n",
    "print(volume)\n",
    "print(math.pi*(0.5**2)*2)"
   ]
  },
  {
   "cell_type": "code",
   "execution_count": 16,
   "id": "984a53fa-582d-4996-b4d4-fce9a05dd238",
   "metadata": {
    "tags": []
   },
   "outputs": [
    {
     "name": "stdout",
     "output_type": "stream",
     "text": [
      "1.207064\n"
     ]
    }
   ],
   "source": [
    "import random\n",
    "import math\n",
    "random.seed(42)\n",
    "N = 1000000\n",
    "count=0\n",
    "r_s = 1\n",
    "r_c = 0.5\n",
    "a = 0.5\n",
    "h = 1\n",
    "\n",
    "for iPoint in range(N):\n",
    "    point = (random.random(),random.random(), random.random())\n",
    "    x = point[0]\n",
    "    y = point[1]\n",
    "    z = point[2]\n",
    "    if x**2 + y**2 + z**2 < r_s**2:\n",
    "        if (x - a)**2 + z**2 < r_c**2 and y < h :\n",
    "            count=count+1\n",
    "\n",
    "alpha = float(count)/float(N)\n",
    "volume = 4*alpha\n",
    "print(volume)"
   ]
  },
  {
   "cell_type": "code",
   "execution_count": null,
   "id": "a6bc1035-6127-4c0d-818a-88bcdb44c51e",
   "metadata": {},
   "outputs": [],
   "source": []
  }
 ],
 "metadata": {
  "kernelspec": {
   "display_name": "Python 3 (ipykernel)",
   "language": "python",
   "name": "python3"
  },
  "language_info": {
   "codemirror_mode": {
    "name": "ipython",
    "version": 3
   },
   "file_extension": ".py",
   "mimetype": "text/x-python",
   "name": "python",
   "nbconvert_exporter": "python",
   "pygments_lexer": "ipython3",
   "version": "3.12.5"
  }
 },
 "nbformat": 4,
 "nbformat_minor": 5
}
