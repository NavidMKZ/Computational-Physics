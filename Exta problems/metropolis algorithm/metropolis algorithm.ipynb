{
 "cells": [
  {
   "cell_type": "code",
   "execution_count": 3,
   "id": "acd29b99",
   "metadata": {},
   "outputs": [
    {
     "data": {
      "image/png": "[encoded data removed]",
      "text/plain": [
       "<Figure size 432x288 with 1 Axes>"
      ]
     },
     "metadata": {
      "needs_background": "light"
     },
     "output_type": "display_data"
    }
   ],
   "source": [
    "import matplotlib.pyplot as plt#metropolice\n",
    "from random import random\n",
    "import numpy as np\n",
    "\n",
    "p = lambda x : ((x-4)**2)*np.exp(-(x-4)**2)\n",
    "xlist = []\n",
    "x = random()\n",
    "delta = 1.0\n",
    "N = 100000\n",
    "for i in range(N):\n",
    "    xtrial = x+delta*(2*random()-1)\n",
    "    w = p(xtrial)/p(x)\n",
    "    if w > 1:\n",
    "        x = xtrial\n",
    "        xlist.append(x)\n",
    "    else:\n",
    "        r = random()\n",
    "        if r <= w :\n",
    "            x = xtrial\n",
    "            xlist.append(x)\n",
    "        else:\n",
    "            xlist.append(x)\n",
    "plt.hist(xlist,bins=500,density = True)\n",
    "plt.show()"
   ]
  },
  {
   "cell_type": "code",
   "execution_count": null,
   "id": "d9a4ba15",
   "metadata": {},
   "outputs": [],
   "source": []
  }
 ],
 "metadata": {
  "kernelspec": {
   "display_name": "Python 3 (ipykernel)",
   "language": "python",
   "name": "python3"
  },
  "language_info": {
   "codemirror_mode": {
    "name": "ipython",
    "version": 3
   },
   "file_extension": ".py",
   "mimetype": "text/x-python",
   "name": "python",
   "nbconvert_exporter": "python",
   "pygments_lexer": "ipython3",
   "version": "3.12.5"
  }
 },
 "nbformat": 4,
 "nbformat_minor": 5
}
