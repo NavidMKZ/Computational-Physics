{
 "cells": [
  {
   "cell_type": "code",
   "execution_count": 1,
   "id": "04e37883-142d-44ae-a319-ea242adef072",
   "metadata": {
    "tags": []
   },
   "outputs": [],
   "source": [
    "import numpy as np\n",
    "import matplotlib.pyplot as plt\n",
    "import random"
   ]
  },
  {
   "cell_type": "code",
   "execution_count": 32,
   "id": "d53672db-dffb-4978-960c-69383d520b1e",
   "metadata": {
    "tags": []
   },
   "outputs": [
    {
     "data": {
      "image/png": "[encoded data removed]",
      "text/plain": [
       "<Figure size 640x480 with 1 Axes>"
      ]
     },
     "metadata": {},
     "output_type": "display_data"
    }
   ],
   "source": [
    "gaussian = []\n",
    "for i in range(0,50000):\n",
    "    gaussian.append(random.gauss(0, 1))\n",
    "plt.hist(gaussian,bins=90)\n",
    "plt.show()"
   ]
  },
  {
   "cell_type": "code",
   "execution_count": 4,
   "id": "8e3ed8e3-3f91-431f-8603-1cd1aa09beed",
   "metadata": {
    "tags": []
   },
   "outputs": [
    {
     "name": "stdout",
     "output_type": "stream",
     "text": [
      "54.90294741086283\n"
     ]
    }
   ],
   "source": [
    "class PhysicalSystem:\n",
    "    def __init__(self,state0,params):\n",
    "        self.state0 = state0\n",
    "        self.params = params\n",
    "\n",
    "    def Derivative(self, t, dt):\n",
    "        pass\n",
    "    def NextStateRK2(self, t, dt):\n",
    "        k1 = self.Derivative(t)\n",
    "        temp_state0 = self.state0\n",
    "        self.NextStateEuler(t, dt)\n",
    "        k2 = self.Derivative(t+dt)\n",
    "        self.state0 = temp_state0 + 0.5*dt*(k1+k2)\n",
    "        return self.state0\n",
    "    \n",
    "    def NextStateEuler(self, t, dt):\n",
    "        self.state0 = self.state0+self.Derivative(t)*dt\n",
    "        return self.state0\n",
    "\n",
    "class NuclearSystem(PhysicalSystem):\n",
    "    def Derivative(self,t):\n",
    "        return -self.state0/self.params[0]\n",
    "\n",
    "dt = 0.02\n",
    "N = 3000\n",
    "tau = 25\n",
    "\n",
    "Radium = NuclearSystem(N, [25])\n",
    "\n",
    "\n",
    "N_list = [N]\n",
    "n = 5000\n",
    "t = 0\n",
    "for i in range(1,n):\n",
    "    N_list.append(Radium.NextStateEuler(t, dt))\n",
    "    t = t+dt\n",
    "print(N_list[-1])"
   ]
  },
  {
   "cell_type": "code",
   "execution_count": 2,
   "id": "83dcfbcb-9307-4f2b-86b3-9010a518f105",
   "metadata": {
    "tags": []
   },
   "outputs": [
    {
     "name": "stdout",
     "output_type": "stream",
     "text": [
      "1.5715239193593589\n"
     ]
    }
   ],
   "source": [
    "import math\n",
    "N = 1000000\n",
    "count=0\n",
    "r = 1\n",
    "for iPoint in range(N):\n",
    "    point = (random.random(),random.random(), random.random(), random.random())\n",
    "    if point[0]**2+point[1]**2+point[2]**2+point[3]**2 < r**2:\n",
    "        count=count+1\n",
    "\n",
    "volume_cube = r**4\n",
    "alpha = (float(count)/float(N))*volume_cube\n",
    "volume = 16*alpha\n",
    "print(volume/(np.pi*r**4))"
   ]
  },
  {
   "cell_type": "code",
   "execution_count": 6,
   "id": "0658b59b-4c8a-4e84-aae0-11ca335c0800",
   "metadata": {
    "tags": []
   },
   "outputs": [
    {
     "name": "stdout",
     "output_type": "stream",
     "text": [
      "1.206972\n"
     ]
    }
   ],
   "source": [
    "random.seed(654321)\n",
    "N = 1000000\n",
    "count=0\n",
    "rs = 1\n",
    "rc = 0.5\n",
    "a = 0.5\n",
    "for iPoint in range(N):\n",
    "    point = (random.random(),random.random(), random.random())\n",
    "    x, y, z = point[0], point[1], point[2]\n",
    "    if x**2+y**2+z**2 <= rs**2:\n",
    "        if (x-a)**2 + z**2<= rc**2:\n",
    "            count=count+1\n",
    "\n",
    "volume_cube = 1**3\n",
    "alpha = (float(count)/float(N))*volume_cube\n",
    "volume = 4*alpha\n",
    "print(volume)"
   ]
  },
  {
   "cell_type": "code",
   "execution_count": null,
   "id": "59e57ae6-584c-42b4-8f83-6c2d4eae8854",
   "metadata": {},
   "outputs": [],
   "source": []
  }
 ],
 "metadata": {
  "kernelspec": {
   "display_name": "Python 3 (ipykernel)",
   "language": "python",
   "name": "python3"
  },
  "language_info": {
   "codemirror_mode": {
    "name": "ipython",
    "version": 3
   },
   "file_extension": ".py",
   "mimetype": "text/x-python",
   "name": "python",
   "nbconvert_exporter": "python",
   "pygments_lexer": "ipython3",
   "version": "3.11.4"
  }
 },
 "nbformat": 4,
 "nbformat_minor": 5
}
